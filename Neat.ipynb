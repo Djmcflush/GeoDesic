{
 "cells": [
  {
   "cell_type": "code",
   "execution_count": null,
   "id": "dce3f15e-5c5c-43ca-b325-086d0202cd20",
   "metadata": {},
   "outputs": [],
   "source": [
    "1"
   ]
  },
  {
   "cell_type": "code",
   "execution_count": null,
   "id": "46a2b9b6-fc42-4dc0-89cf-bad77d4d345d",
   "metadata": {},
   "outputs": [],
   "source": [
    "!pip install cloudpickle==2.0.0\n",
    "!pip install graphviz==0.20\n",
    "!pip install gym==0.23.1\n",
    "!pip install gym-notices==0.0.6\n",
    "!pip install numpy==1.22.3\n",
    "!pip install pygame==2.1.2\n",
    "!pip install torch==1.11.0\n",
    "!pip install tqdm==4.64.0\n",
    "!pip install typing_extensions==4.2.0\n",
    "!pip install neat-python\n"
   ]
  },
  {
   "cell_type": "code",
   "execution_count": null,
   "id": "563c3202-77a3-4231-84a8-92065338499c",
   "metadata": {},
   "outputs": [],
   "source": [
    "import json \n",
    "\n",
    "test_challenges_path = 'arc-agi_test_challenges.json'\n",
    "train_challenges_path = 'arc-agi_training_challenges.json'\n",
    "train_solutions_path = 'arc-agi_training_solutions.json'\n",
    "\n",
    "with open(test_challenges_path) as fp:\n",
    "    test_challenges = json.load(fp)\n",
    "with open(train_challenges_path) as fp:\n",
    "    train_challenges = json.load(fp)\n",
    "with open(train_solutions_path) as fp:\n",
    "    train_solutions = json.load(fp)"
   ]
  },
  {
   "cell_type": "code",
   "execution_count": null,
   "id": "9b5b0b02-a417-4ece-9353-845d3d39cd4a",
   "metadata": {},
   "outputs": [],
   "source": [
    "train_challenges"
   ]
  },
  {
   "cell_type": "code",
   "execution_count": null,
   "id": "38036086-a46a-4c17-8d29-bbac8a8ce2f9",
   "metadata": {},
   "outputs": [],
   "source": [
    "\n",
    "import os\n",
    "import neat\n",
    "import visualize\n",
    "\n",
    "# 2-input XOR inputs and expected outputs.\n",
    "xor_inputs = [(0.0, 0.0), (0.0, 1.0), (1.0, 0.0), (1.0, 1.0)]\n",
    "xor_outputs = [(0.0,), (1.0,), (1.0,), (0.0,)]\n",
    "\n",
    "\n",
    "def eval_genomes(genomes, config):\n",
    "    for genome_id, genome in genomes:\n",
    "        genome.fitness = 4.0\n",
    "        net = neat.nn.FeedForwardNetwork.create(genome, config)\n",
    "        for xi, xo in zip(xor_inputs, xor_outputs):\n",
    "            output = net.activate(xi)\n",
    "            genome.fitness -= (output[0] - xo[0]) ** 2\n",
    "\n",
    "\n",
    "def run(config_file):\n",
    "    # Load configuration.\n",
    "    config = neat.Config(neat.DefaultGenome, neat.DefaultReproduction,\n",
    "                         neat.DefaultSpeciesSet, neat.DefaultStagnation,\n",
    "                         config_file)\n",
    "\n",
    "    # Create the population, which is the top-level object for a NEAT run.\n",
    "    p = neat.Population(config)\n",
    "\n",
    "    # Add a stdout reporter to show progress in the terminal.\n",
    "    p.add_reporter(neat.StdOutReporter(True))\n",
    "    stats = neat.StatisticsReporter()\n",
    "    p.add_reporter(stats)\n",
    "    p.add_reporter(neat.Checkpointer(5))\n",
    "\n",
    "    # Run for up to 300 generations.\n",
    "    winner = p.run(eval_genomes, 300)\n",
    "\n",
    "    # Display the winning genome.\n",
    "    print('\\nBest genome:\\n{!s}'.format(winner))\n",
    "\n",
    "    # Show output of the most fit genome against training data.\n",
    "    print('\\nOutput:')\n",
    "    winner_net = neat.nn.FeedForwardNetwork.create(winner, config)\n",
    "    for xi, xo in zip(xor_inputs, xor_outputs):\n",
    "        output = winner_net.activate(xi)\n",
    "        print(\"input {!r}, expected output {!r}, got {!r}\".format(xi, xo, output))\n",
    "\n",
    "    node_names = {-1: 'A', -2: 'B', 0: 'A XOR B'}\n",
    "    visualize.draw_net(config, winner, True, node_names=node_names)\n",
    "    visualize.draw_net(config, winner, True, node_names=node_names, prune_unused=True)\n",
    "    visualize.plot_stats(stats, ylog=False, view=True)\n",
    "    visualize.plot_species(stats, view=True)\n",
    "\n",
    "    p = neat.Checkpointer.restore_checkpoint('neat-checkpoint-4')\n",
    "    p.run(eval_genomes, 10)\n",
    "\n",
    "\n",
    "if __name__ == '__main__':\n",
    "    # Determine path to configuration file. This path manipulation is\n",
    "    # here so that the script will run successfully regardless of the\n",
    "    # current working directory.\n",
    "    local_dir = os.path.dirname(\"config.py\")\n",
    "    config_path = os.path.join(local_dir, 'config.py')\n",
    "    run(config_path)"
   ]
  },
  {
   "cell_type": "code",
   "execution_count": null,
   "id": "e7cf0874-3cc5-4c9d-8594-6eb170e7912b",
   "metadata": {},
   "outputs": [],
   "source": []
  }
 ],
 "metadata": {
  "kernelspec": {
   "display_name": "Python 3 (ipykernel)",
   "language": "python",
   "name": "python3"
  },
  "language_info": {
   "codemirror_mode": {
    "name": "ipython",
    "version": 3
   },
   "file_extension": ".py",
   "mimetype": "text/x-python",
   "name": "python",
   "nbconvert_exporter": "python",
   "pygments_lexer": "ipython3",
   "version": "3.10.12"
  }
 },
 "nbformat": 4,
 "nbformat_minor": 5
}
